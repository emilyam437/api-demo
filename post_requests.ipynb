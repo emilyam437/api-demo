{
 "cells": [
  {
   "cell_type": "code",
   "execution_count": 4,
   "metadata": {},
   "outputs": [
    {
     "name": "stdout",
     "output_type": "stream",
     "text": [
      "{'author': 'Laura', 'first_sentence': 'Once upon a time in the forest', 'id': 27, 'title': 'The best book ever', 'year_published': '1992'}\n",
      "200\n"
     ]
    }
   ],
   "source": [
    "import json\n",
    "import requests \n",
    "\n",
    "api_url = \"http://127.0.0.1:5000/api/v2/resources/books\"\n",
    "newBook = {\n",
    "    \"author\": \"Laura\",\n",
    "    \"first_sentence\": \"Once upon a time in the forest\",\n",
    "    \"id\": 27,\n",
    "    \"title\": \"The best book ever\",\n",
    "    \"year_published\": \"1992\"\n",
    "}\n",
    "headers =  {\"Content-Type\":\"application/json\"}\n",
    "response = requests.post(api_url, data=json.dumps(newBook), headers=headers)\n",
    "\n",
    "print(response.json())\n",
    "print(response.status_code)"
   ]
  },
  {
   "cell_type": "code",
   "execution_count": 29,
   "metadata": {},
   "outputs": [
    {
     "name": "stdout",
     "output_type": "stream",
     "text": [
      "8154.273749280292\n",
      "200\n"
     ]
    }
   ],
   "source": [
    "api_url = \"http://127.0.0.1:5000/predict-from-model\"\n",
    "newBook = {\n",
    "    \"TV\": 5,\n",
    "    \"radio\": 27,\n",
    "    \"newspaper\": 100\n",
    "}\n",
    "headers =  {\"Content-Type\":\"application/json\"}\n",
    "response = requests.post(api_url, data=json.dumps(newBook), headers=headers)\n",
    "\n",
    "print(response.json())\n",
    "print(response.status_code)"
   ]
  },
  {
   "cell_type": "code",
   "execution_count": 12,
   "metadata": {},
   "outputs": [
    {
     "name": "stdout",
     "output_type": "stream",
     "text": [
      "<Response [404]>\n",
      "404\n"
     ]
    }
   ],
   "source": [
    "import json\n",
    "import requests \n",
    "\n",
    "api_url = \"https://www.pythonanywhere.com/api/v2/resources/books\"\n",
    "newBook = {\n",
    "    \"author\": \"Laura\",\n",
    "    \"first_sentence\": \"Once upon a time in the forest\",\n",
    "    \"id\": 27,\n",
    "    \"title\": \"The best book ever\",\n",
    "    \"year_published\": \"1992\"\n",
    "}\n",
    "headers =  {\"Content-Type\":\"application/json\"}\n",
    "response = requests.post(api_url, data=json.dumps(newBook), headers=headers)\n",
    "\n",
    "print(response)\n",
    "print(response.status_code)"
   ]
  },
  {
   "cell_type": "code",
   "execution_count": null,
   "metadata": {},
   "outputs": [],
   "source": []
  }
 ],
 "metadata": {
  "kernelspec": {
   "display_name": "myenvsept",
   "language": "python",
   "name": "python3"
  },
  "language_info": {
   "codemirror_mode": {
    "name": "ipython",
    "version": 3
   },
   "file_extension": ".py",
   "mimetype": "text/x-python",
   "name": "python",
   "nbconvert_exporter": "python",
   "pygments_lexer": "ipython3",
   "version": "3.7.13"
  },
  "orig_nbformat": 4,
  "vscode": {
   "interpreter": {
    "hash": "5efa1bf028dea829963e26a59de8cab45ad1ecd390629dd01864f5709b54d4bc"
   }
  }
 },
 "nbformat": 4,
 "nbformat_minor": 2
}
