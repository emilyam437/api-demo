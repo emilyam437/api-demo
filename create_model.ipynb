{
 "cells": [
  {
   "cell_type": "code",
   "execution_count": 2,
   "metadata": {},
   "outputs": [
    {
     "name": "stdout",
     "output_type": "stream",
     "text": [
      "MSE:  3072946.597100211\n",
      "RMSE:  1752.9822010220785\n"
     ]
    }
   ],
   "source": [
    "'''\n",
    "En este script se cargan los datos y entrena el modelo\n",
    "'''\n",
    "import pandas as pd\n",
    "import numpy as np\n",
    "from sklearn.model_selection import cross_val_score\n",
    "from sklearn.linear_model import LinearRegression\n",
    "import pickle\n",
    "\n",
    "root = '' # Ruta al directorio donde tengáis el ejercicio\n",
    "data = pd.read_csv(root + 'ads.csv')\n",
    "\n",
    "X = data.drop(columns=['sales'])\n",
    "y = data['sales']\n",
    "\n",
    "lin_reg = LinearRegression()\n",
    "lin_reg.fit(X, y)\n",
    "\n",
    "ls_metrics = -1 * cross_val_score(lin_reg, X, y, cv=5, scoring='neg_mean_squared_error')\n",
    "mse = np.mean(ls_metrics)\n",
    "rmse = mse ** .5\n",
    "\n",
    "print(\"MSE: \", mse)\n",
    "print(\"RMSE: \", rmse)\n",
    "\n",
    "pickle.dump(lin_reg, open(root + 'advertising.model', 'wb'))"
   ]
  },
  {
   "cell_type": "code",
   "execution_count": 8,
   "metadata": {},
   "outputs": [
    {
     "name": "stderr",
     "output_type": "stream",
     "text": [
      "c:\\Users\\Emily\\anaconda3\\envs\\myenvsept\\lib\\site-packages\\sklearn\\base.py:451: UserWarning: X does not have valid feature names, but LinearRegression was fitted with feature names\n",
      "  \"X does not have valid feature names, but\"\n"
     ]
    },
    {
     "data": {
      "text/plain": [
       "array([10577.12073363])"
      ]
     },
     "execution_count": 8,
     "metadata": {},
     "output_type": "execute_result"
    }
   ],
   "source": [
    "lin_reg.predict([[23.8,35.1,65.9]])"
   ]
  },
  {
   "cell_type": "code",
   "execution_count": null,
   "metadata": {},
   "outputs": [],
   "source": []
  }
 ],
 "metadata": {
  "kernelspec": {
   "display_name": "myenvsept",
   "language": "python",
   "name": "python3"
  },
  "language_info": {
   "codemirror_mode": {
    "name": "ipython",
    "version": 3
   },
   "file_extension": ".py",
   "mimetype": "text/x-python",
   "name": "python",
   "nbconvert_exporter": "python",
   "pygments_lexer": "ipython3",
   "version": "3.7.13"
  },
  "orig_nbformat": 4,
  "vscode": {
   "interpreter": {
    "hash": "5efa1bf028dea829963e26a59de8cab45ad1ecd390629dd01864f5709b54d4bc"
   }
  }
 },
 "nbformat": 4,
 "nbformat_minor": 2
}
